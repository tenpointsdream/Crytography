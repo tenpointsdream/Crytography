{
 "cells": [
  {
   "cell_type": "code",
   "execution_count": 140,
   "metadata": {},
   "outputs": [
    {
     "data": {
      "text/plain": [
       "['7F', '67', '98', 'AF']"
      ]
     },
     "execution_count": 140,
     "metadata": {},
     "output_type": "execute_result"
    }
   ],
   "source": [
    "def rotate(input):\n",
    "    output = [None]*len(input)\n",
    "    i = 0\n",
    "    while (i < 3):\n",
    "        output[i] = input[i + 1]\n",
    "        i += 1\n",
    "    output[3] = input[0]\n",
    "    return output \n",
    "rotate(['AF', '7F', '67', '98'])"
   ]
  },
  {
   "cell_type": "code",
   "execution_count": 141,
   "metadata": {},
   "outputs": [],
   "source": [
    "sBoxLookUp = [['63', '7C', '77', '7B', 'F2', '6B', '6F', 'C5', '30', '01', '67', '2B', 'FE', 'D7', 'AB', '76'],\n",
    "              ['CA', '82', 'C9', '7D', 'FA', '59', '47', 'F0', 'AD', 'D4', 'A2', 'AF', '9C', 'A4', '72', 'C0'],\n",
    "              ['B7', 'FD', '93', '26', '36', '3F', 'F7', 'CC', '34', 'A5', 'E5', 'F1', '71', 'D8', '31', '15'],\n",
    "              ['04', 'C7', '23', 'C3', '18', '96', '05', '9A', '07', '12', '80', 'E2', 'EB', '27', 'B2', '75'],\n",
    "              ['09', '83', '2C', '1A', '1B', '6E', '5A', 'A0', '52', '3B', 'D6', 'B3', '29', 'E3', '2F', '84'],\n",
    "              ['53', 'D1', '00', 'ED', '20', 'FC', 'B1', '5B', '6A', 'CB', 'BE', '39', '4A', '4C', '58', 'CF'],\n",
    "              ['D0', 'EF', 'AA', 'FB', '43', '4D', '33', '85', '45', 'F9', '02', '7F', '50', '3C', '9F', 'A8'],\n",
    "              ['51', 'A3', '40', '8F', '92', '9D', '38', 'F5', 'BC', 'B6', 'DA', '21', '10', 'FF', 'F3', 'D2'],\n",
    "              ['CD', '0C', '13', 'EC', '5F', '97', '44', '17', 'C4', 'A7', '7E', '3D', '64', '5D', '19', '73'],\n",
    "              ['60', '81', '4F', 'DC', '22', '2A', '90', '88', '46', 'EE', 'B8', '14', 'DE', '5E', '0B', 'DB'],\n",
    "              ['E0', '32', '3A', '0A', '49', '06', '24', '5C', 'C2', 'D3', 'AC', '62', '91', '95', 'E4', '79'],\n",
    "              ['E7', 'C8', '37', '6D', '8D', 'D5', '4E', 'A9', '6C', '56', 'F4', 'EA', '65', '7A', 'AE', '08'],\n",
    "              ['BA', '78', '25', '2E', '1C', 'A6', 'B4', 'C6', 'E8', 'DD', '74', '1F', '4B', 'BD', '8D', '8A'],\n",
    "              ['70', '3E', 'B5', '66', '48', '03', 'F6', '0E', '61', '35', '57', 'B9', '86', 'C1', '1D', '9E'],\n",
    "              ['E1', 'F8', '98', '11', '69', 'D9', '8E', '94', '9B', '1E', '87', 'E9', 'CE', '55', '28', 'DF'],\n",
    "              ['8C', 'A1', '89', '0D', 'BF', 'E6', '42', '68', '41', '99', '2D', '0F', 'B0', '54', 'BB', '16']]"
   ]
  },
  {
   "cell_type": "code",
   "execution_count": 142,
   "metadata": {},
   "outputs": [
    {
     "data": {
      "text/plain": [
       "['D2', '85', '46', '79']"
      ]
     },
     "execution_count": 142,
     "metadata": {},
     "output_type": "execute_result"
    }
   ],
   "source": [
    "def SubWord(output, input):\n",
    "    for i in range(len(input)):\n",
    "      text = input[i]\n",
    "      j, k = text[0], text[1]\n",
    "      output[i] = sBoxLookUp[hexToDec(j)][hexToDec(k)]\n",
    "\n",
    "output = ['']*4\n",
    "input = ['7F', '67', '98', 'AF']\n",
    "SubWord(output, input)\n",
    "output"
   ]
  },
  {
   "cell_type": "code",
   "execution_count": 143,
   "metadata": {},
   "outputs": [
    {
     "data": {
      "text/plain": [
       "'0011'"
      ]
     },
     "execution_count": 143,
     "metadata": {},
     "output_type": "execute_result"
    }
   ],
   "source": [
    "def hexToBin(value):\n",
    "  j = 3\n",
    "  rs = 4 * ['0']\n",
    "  result = ''\n",
    "  while value >= 1:\n",
    "    rs[j] = str(value % 2)\n",
    "    value //= 2\n",
    "    j -= 1\n",
    "    if j < 0:\n",
    "      break\n",
    "    if value == 1:\n",
    "      rs[j] = '1'\n",
    "  for i in rs:\n",
    "    result += i\n",
    "  return result\n",
    "\n",
    "hexToBin(hexToDec('3'))"
   ]
  },
  {
   "cell_type": "code",
   "execution_count": 144,
   "metadata": {},
   "outputs": [
    {
     "data": {
      "text/plain": [
       "10"
      ]
     },
     "execution_count": 144,
     "metadata": {},
     "output_type": "execute_result"
    }
   ],
   "source": [
    "def hexToDec(letter):\n",
    "  if letter == 'A' or letter == 'a':\n",
    "    return 10\n",
    "  elif letter == 'B' or letter == 'b':\n",
    "    return 11\n",
    "  elif letter == 'C' or letter == 'c':\n",
    "    return 12\n",
    "  elif letter == 'D' or letter == 'd':\n",
    "    return 13\n",
    "  elif letter == 'E' or letter == 'e':\n",
    "    return 14\n",
    "  elif letter == 'F' or letter == 'f':\n",
    "    return 15\n",
    "  else:\n",
    "    return int(letter)\n",
    "hexToDec('a')"
   ]
  },
  {
   "cell_type": "code",
   "execution_count": 145,
   "metadata": {},
   "outputs": [
    {
     "data": {
      "text/plain": [
       "'11010010'"
      ]
     },
     "execution_count": 145,
     "metadata": {},
     "output_type": "execute_result"
    }
   ],
   "source": [
    "def getBin_8bits(hex):\n",
    "  result = ''\n",
    "  if len(hex) == 2: \n",
    "    l1, l2 = hex[0], hex[1]\n",
    "    result += hexToBin(hexToDec(l1))\n",
    "    result += hexToBin(hexToDec(l2))\n",
    "  else:\n",
    "    l = hex[0]\n",
    "    result += '0000'\n",
    "    result += hexToBin(hexToDec(l))\n",
    "  return result\n",
    "\n",
    "getBin_8bits('d2')"
   ]
  },
  {
   "cell_type": "code",
   "execution_count": 146,
   "metadata": {},
   "outputs": [
    {
     "data": {
      "text/plain": [
       "'9'"
      ]
     },
     "execution_count": 146,
     "metadata": {},
     "output_type": "execute_result"
    }
   ],
   "source": [
    "def decToHex(value):\n",
    "  if value == 10:\n",
    "    return 'A'\n",
    "  elif value == 11:\n",
    "    return 'B'\n",
    "  elif value == 12:\n",
    "    return 'C'\n",
    "  elif value == 13:\n",
    "    return 'D'\n",
    "  elif value == 14:\n",
    "    return 'E'\n",
    "  elif value == 15:\n",
    "    return 'F'\n",
    "  else:\n",
    "    return str(value)\n",
    "\n",
    "decToHex(9)"
   ]
  },
  {
   "cell_type": "code",
   "execution_count": 147,
   "metadata": {},
   "outputs": [
    {
     "data": {
      "text/plain": [
       "'86'"
      ]
     },
     "execution_count": 147,
     "metadata": {},
     "output_type": "execute_result"
    }
   ],
   "source": [
    "def getHex_1byte(Bin8):\n",
    "  result1 = 0\n",
    "  result2 = 0\n",
    "  result = ''\n",
    "  i = 0\n",
    "  j = 3\n",
    "  while i < 4:\n",
    "    if Bin8[i] == '1':\n",
    "        result1 += 2**j\n",
    "    j -= 1\n",
    "    i += 1\n",
    "  i = 4\n",
    "  j = 3\n",
    "  \n",
    "  while i < 8:\n",
    "    if Bin8[i] == '1':\n",
    "        result2 += 2**j\n",
    "    j -= 1\n",
    "    i += 1\n",
    "  result = decToHex(result1) + decToHex(result2)\n",
    "  return result\n",
    "getHex_1byte('10000110')"
   ]
  },
  {
   "cell_type": "code",
   "execution_count": 155,
   "metadata": {},
   "outputs": [
    {
     "data": {
      "text/plain": [
       "'FD'"
      ]
     },
     "execution_count": 155,
     "metadata": {},
     "output_type": "execute_result"
    }
   ],
   "source": [
    "def xor(block1, block2):\n",
    "  r = len(block1) * ['']\n",
    "  i = 0\n",
    "  while (i < len(block1)):\n",
    "    if block1[i] == block2[i]:\n",
    "      r[i] = '0'\n",
    "    else:\n",
    "      r[i] = '1'\n",
    "    i += 1\n",
    "  result = ''\n",
    "  for i in r:\n",
    "    result += i\n",
    "  #print('Xor of ' + block1 + ' and ' + block2 + ' is: ' + result)\n",
    "  return result\n",
    "getHex_1byte(xor(getBin_8bits('B5'), getBin_8bits('48')))"
   ]
  },
  {
   "cell_type": "code",
   "execution_count": 149,
   "metadata": {},
   "outputs": [],
   "source": [
    "RC = ['01', '02', '04', '08', '10', '20', '40', '80', '1B', '36']"
   ]
  },
  {
   "cell_type": "code",
   "execution_count": 150,
   "metadata": {},
   "outputs": [
    {
     "data": {
      "text/plain": [
       "['D3', '85', '46', '79']"
      ]
     },
     "execution_count": 150,
     "metadata": {},
     "output_type": "execute_result"
    }
   ],
   "source": [
    "def SubWord_RC(input, round):\n",
    "    output = ['']*len(input)\n",
    "    i = 1\n",
    "    while i < 4:\n",
    "        output[i] = input[i]\n",
    "        i += 1\n",
    "    output[0] = getHex_1byte(xor(getBin_8bits(input[0]), getBin_8bits(RC[round])))\n",
    "    return output\n",
    "SubWord_RC(['D2', '85', '46', '79'], 0)"
   ]
  },
  {
   "cell_type": "code",
   "execution_count": 151,
   "metadata": {},
   "outputs": [
    {
     "name": "stdout",
     "output_type": "stream",
     "text": [
      "['AF', '7F', '67', '98']\n",
      "['7F', '67', '98', 'AF']\n",
      "['D2', '85', '46', '79']\n",
      "Z:  ['D3', '85', '46', '79']\n",
      "Z:  ['D3', '85', '46', '79']\n",
      "Z:  ['D3', '85', '46', '79']\n",
      "Z:  ['D3', '85', '46', '79']\n",
      "['AF', '7F', '67', '98']\n",
      "['7F', '67', '98', 'AF']\n",
      "['D2', '85', '46', '79']\n",
      "Z:  ['DC', '90', '37', 'B0']\n",
      "Z:  ['DC', '90', '37', 'B0']\n",
      "Z:  ['DC', '90', '37', 'B0']\n",
      "Z:  ['DC', '90', '37', 'B0']\n",
      "['AF', '7F', '67', '98']\n",
      "['7F', '67', '98', 'AF']\n",
      "['D2', '85', '46', '79']\n",
      "Z:  ['9B', '49', 'DF', 'E9']\n",
      "Z:  ['9B', '49', 'DF', 'E9']\n",
      "Z:  ['9B', '49', 'DF', 'E9']\n",
      "Z:  ['9B', '49', 'DF', 'E9']\n",
      "['AF', '7F', '67', '98']\n",
      "['7F', '67', '98', 'AF']\n",
      "['D2', '85', '46', '79']\n",
      "Z:  ['97', 'FE', '72', '3F']\n",
      "Z:  ['97', 'FE', '72', '3F']\n",
      "Z:  ['97', 'FE', '72', '3F']\n",
      "Z:  ['97', 'FE', '72', '3F']\n",
      "['AF', '7F', '67', '98']\n",
      "['7F', '67', '98', 'AF']\n",
      "['D2', '85', '46', '79']\n",
      "Z:  ['D3', '85', '46', '79']\n",
      "Z:  ['D3', '85', '46', '79']\n",
      "Z:  ['D3', '85', '46', '79']\n",
      "Z:  ['D3', '85', '46', '79']\n"
     ]
    },
    {
     "data": {
      "text/plain": [
       "['0F',\n",
       " '15',\n",
       " '71',\n",
       " 'C9',\n",
       " '47',\n",
       " 'D9',\n",
       " 'E8',\n",
       " '59',\n",
       " '0C',\n",
       " 'B7',\n",
       " 'AD',\n",
       " 'D6',\n",
       " 'AF',\n",
       " '7F',\n",
       " '67',\n",
       " '98',\n",
       " 'DC',\n",
       " '90',\n",
       " '37',\n",
       " 'B0',\n",
       " '9B',\n",
       " '49',\n",
       " 'DF',\n",
       " 'E9',\n",
       " '97',\n",
       " 'FE',\n",
       " '72',\n",
       " '3F',\n",
       " '38',\n",
       " '81',\n",
       " '15',\n",
       " 'A7',\n",
       " 'DC',\n",
       " '90',\n",
       " '37',\n",
       " 'B0']"
      ]
     },
     "execution_count": 151,
     "metadata": {},
     "output_type": "execute_result"
    }
   ],
   "source": [
    "def keyExpansion(input):\n",
    "    w0 = [input[0], input[1], input[2], input[3]]\n",
    "    w1 = [input[4], input[5], input[6], input[7]]\n",
    "    w2 = [input[8], input[9], input[10], input[11]]\n",
    "    w3 = [input[12], input[13], input[14], input[15]]\n",
    "    output = []\n",
    "    round = 0\n",
    "    output = w0 + w1 + w2 + w3\n",
    "    current = ['']*4\n",
    "    #previous = ['']*4\n",
    "    j = 0\n",
    "    \n",
    "    while round < 1:\n",
    "        w0 = [output[round*4], output[round*4 + 1], output[round*4 + 2], output[round*4 + 3]]\n",
    "        w1 = [output[(round+1)*4], output[(round + 1)*4 + 1], output[(round + 1)*4 + 2], output[(round + 1)*4 + 3]]\n",
    "        w2 = [output[(round+2)*4], output[(round + 2)*4 + 1], output[(round + 2)*4 + 2], output[(round + 2)*4 + 3]]\n",
    "        w3 = [output[(round+3)*4], output[(round + 3)*4 + 1], output[(round + 3)*4 + 2], output[(round + 3)*4 + 3]]\n",
    "        print(w3)\n",
    "        rotWord = rotate(w3)\n",
    "        print(rotWord)\n",
    "        subWord = rotWord\n",
    "        SubWord(subWord, rotWord)\n",
    "        print(subWord)\n",
    "        z = SubWord_RC(subWord, round)\n",
    "        #print(\"Z: \", z)\n",
    "        if j == 4:\n",
    "            j = 0\n",
    "            round += 1\n",
    "        if j == 0:\n",
    "            for i in range(4):\n",
    "                print(\"Z: \", z)\n",
    "                current[i] = getHex_1byte(xor(getBin_8bits(z[i]), getBin_8bits(w0[i])))\n",
    "        elif j == 1:\n",
    "            for i in range(4):\n",
    "                #z = [output[(round+1)*4], output[(round + 1)*4 + 1], output[(round + 1)*4 + 2], output[(round + 1)*4 + 3]]\n",
    "                z = output[-4:]\n",
    "                print(\"Z: \", z)\n",
    "                current[i] = getHex_1byte(xor(getBin_8bits(z[i]), getBin_8bits(w1[i])))\n",
    "        elif j == 2:\n",
    "            for i in range(4):\n",
    "                #z = [output[(round+2)*4], output[(round + 2)*4 + 1], output[(round + 2)*4 + 2], output[(round + 2)*4 + 3]]\n",
    "                z = output[-4:]\n",
    "                print(\"Z: \", z)\n",
    "                current[i] = getHex_1byte(xor(getBin_8bits(z[i]), getBin_8bits(w2[i])))\n",
    "        else:\n",
    "            for i in range(4):\n",
    "                z = output[-4:]\n",
    "                print(\"Z: \", z)\n",
    "                #z = [output[(round+3)*4], output[(round + 3)*4 + 1], output[(round + 3)*4 + 2], output[(round + 3)*4 + 3]]\n",
    "                current[i] = getHex_1byte(xor(getBin_8bits(z[i]), getBin_8bits(w3[i])))\n",
    "        j += 1\n",
    "        output += current\n",
    "    \n",
    "    return output\n",
    "input = ['0F', '15', '71', 'C9', '47', 'D9', 'E8', '59', '0C', 'B7', 'AD', 'D6', 'AF', '7F', '67', '98']\n",
    "keyExpansion(input)"
   ]
  },
  {
   "cell_type": "code",
   "execution_count": 152,
   "metadata": {},
   "outputs": [
    {
     "name": "stdout",
     "output_type": "stream",
     "text": [
      "0 1 2 3 4 5 6 7 8 9 10 11 12 13 14 15 "
     ]
    },
    {
     "data": {
      "text/plain": [
       "['15', 'D2', 'ee', 'ee']"
      ]
     },
     "execution_count": 152,
     "metadata": {},
     "output_type": "execute_result"
    }
   ],
   "source": [
    "currentRound = []\n",
    "currentRound += ['5D', 'A5', '15', 'D2', 'ee', 'ee']\n",
    "for i in range(16):\n",
    "    print(i, end=\" \")\n",
    "currentRound[-4:]"
   ]
  }
 ],
 "metadata": {
  "kernelspec": {
   "display_name": "Python 3.9.10 64-bit",
   "language": "python",
   "name": "python3"
  },
  "language_info": {
   "codemirror_mode": {
    "name": "ipython",
    "version": 3
   },
   "file_extension": ".py",
   "mimetype": "text/x-python",
   "name": "python",
   "nbconvert_exporter": "python",
   "pygments_lexer": "ipython3",
   "version": "3.9.10"
  },
  "orig_nbformat": 4,
  "vscode": {
   "interpreter": {
    "hash": "7261cf52dd4f4e8e30f557e342288bed935259332c2a347bc98330326a10dca0"
   }
  }
 },
 "nbformat": 4,
 "nbformat_minor": 2
}
