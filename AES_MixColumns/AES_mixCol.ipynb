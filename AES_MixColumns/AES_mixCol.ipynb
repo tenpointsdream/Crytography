{
 "cells": [
  {
   "cell_type": "code",
   "execution_count": null,
   "metadata": {},
   "outputs": [],
   "source": []
  },
  {
   "cell_type": "code",
   "execution_count": 146,
   "metadata": {},
   "outputs": [
    {
     "data": {
      "text/plain": [
       "'01100100'"
      ]
     },
     "execution_count": 146,
     "metadata": {},
     "output_type": "execute_result"
    }
   ],
   "source": [
    "def decToBin(value):\n",
    "  j = 7\n",
    "  rs = 8 * ['0']\n",
    "  result = ''\n",
    "  while value > 1:\n",
    "    rs[j] = str(value % 2)\n",
    "    value //= 2\n",
    "    j -= 1\n",
    "    if j < 0:\n",
    "      break\n",
    "    if value == 1:\n",
    "      rs[j] = '1'\n",
    "  for i in rs:\n",
    "    result += i\n",
    "  return result\n",
    "\n",
    "decToBin(100)"
   ]
  },
  {
   "cell_type": "code",
   "execution_count": 147,
   "metadata": {},
   "outputs": [
    {
     "data": {
      "text/plain": [
       "'00100010'"
      ]
     },
     "execution_count": 147,
     "metadata": {},
     "output_type": "execute_result"
    }
   ],
   "source": [
    "def trimBinBlock(Bin9):\n",
    "  result = ''\n",
    "  for i in range(8):\n",
    "    result += Bin9[i+1]\n",
    "  return result\n",
    "trimBinBlock('000100010')"
   ]
  },
  {
   "cell_type": "code",
   "execution_count": 148,
   "metadata": {},
   "outputs": [],
   "source": [
    "def xor(block1, block2):\n",
    "  r = len(block1) * ['']\n",
    "  i = 0\n",
    "  while (i < len(block1)):\n",
    "    if block1[i] == block2[i]:\n",
    "      r[i] = '0'\n",
    "    else:\n",
    "      r[i] = '1'\n",
    "    i += 1\n",
    "  result = ''\n",
    "  for i in r:\n",
    "    result += i\n",
    "  #print('Xor of ' + block1 + ' and ' + block2 + ' is: ' + result)\n",
    "  return result"
   ]
  },
  {
   "cell_type": "code",
   "execution_count": 149,
   "metadata": {},
   "outputs": [
    {
     "data": {
      "text/plain": [
       "'9'"
      ]
     },
     "execution_count": 149,
     "metadata": {},
     "output_type": "execute_result"
    }
   ],
   "source": [
    "def decToHex(value):\n",
    "  if value == 10:\n",
    "    return 'A'\n",
    "  elif value == 11:\n",
    "    return 'B'\n",
    "  elif value == 12:\n",
    "    return 'C'\n",
    "  elif value == 13:\n",
    "    return 'D'\n",
    "  elif value == 14:\n",
    "    return 'E'\n",
    "  elif value == 15:\n",
    "    return 'F'\n",
    "  else:\n",
    "    return str(value)\n",
    "\n",
    "decToHex(9)"
   ]
  },
  {
   "cell_type": "code",
   "execution_count": 150,
   "metadata": {},
   "outputs": [
    {
     "data": {
      "text/plain": [
       "10"
      ]
     },
     "execution_count": 150,
     "metadata": {},
     "output_type": "execute_result"
    }
   ],
   "source": [
    "def hexToDec(letter):\n",
    "  if letter == 'A' or letter == 'a':\n",
    "    return 10\n",
    "  elif letter == 'B' or letter == 'b':\n",
    "    return 11\n",
    "  elif letter == 'C' or letter == 'c':\n",
    "    return 12\n",
    "  elif letter == 'D' or letter == 'd':\n",
    "    return 13\n",
    "  elif letter == 'E' or letter == 'e':\n",
    "    return 14\n",
    "  elif letter == 'F' or letter == 'f':\n",
    "    return 15\n",
    "  else:\n",
    "    return int(letter)\n",
    "hexToDec('a')"
   ]
  },
  {
   "cell_type": "markdown",
   "metadata": {},
   "source": [
    "convert hex to binary from decimal value"
   ]
  },
  {
   "cell_type": "code",
   "execution_count": 151,
   "metadata": {},
   "outputs": [
    {
     "data": {
      "text/plain": [
       "'0011'"
      ]
     },
     "execution_count": 151,
     "metadata": {},
     "output_type": "execute_result"
    }
   ],
   "source": [
    "def hexToBin(value):\n",
    "  j = 3\n",
    "  rs = 4 * ['0']\n",
    "  result = ''\n",
    "  while value >= 1:\n",
    "    rs[j] = str(value % 2)\n",
    "    value //= 2\n",
    "    j -= 1\n",
    "    if j < 0:\n",
    "      break\n",
    "    if value == 1:\n",
    "      rs[j] = '1'\n",
    "  for i in rs:\n",
    "    result += i\n",
    "  return result\n",
    "\n",
    "hexToBin(hexToDec('3'))"
   ]
  },
  {
   "cell_type": "code",
   "execution_count": 152,
   "metadata": {},
   "outputs": [
    {
     "data": {
      "text/plain": [
       "'100011011'"
      ]
     },
     "execution_count": 152,
     "metadata": {},
     "output_type": "execute_result"
    }
   ],
   "source": [
    "def getBin_9bits(hex):\n",
    "  result = ''\n",
    "  if len(hex) == 2: \n",
    "    l1, l2 = hex[0], hex[1]\n",
    "    result += '0'\n",
    "    result += hexToBin(hexToDec(l1))\n",
    "    result += hexToBin(hexToDec(l2))\n",
    "  elif len(hex) == 1:\n",
    "    l = hex[0]\n",
    "    result += '00000'\n",
    "    result += hexToBin(hexToDec(l))\n",
    "  else:\n",
    "    l1, l2 = hex[1], hex[2]\n",
    "    result += '1'\n",
    "    result += hexToBin(hexToDec(l1))\n",
    "    result += hexToBin(hexToDec(l2))\n",
    "  return result\n",
    "\n",
    "getBin_9bits('11B')"
   ]
  },
  {
   "cell_type": "code",
   "execution_count": 153,
   "metadata": {},
   "outputs": [
    {
     "data": {
      "text/plain": [
       "'86'"
      ]
     },
     "execution_count": 153,
     "metadata": {},
     "output_type": "execute_result"
    }
   ],
   "source": [
    "def getHex_1byte(Bin8):\n",
    "  result1 = 0\n",
    "  result2 = 0\n",
    "  result = ''\n",
    "  i = 0\n",
    "  j = 3\n",
    "  while i < 4:\n",
    "    if Bin8[i] == '1':\n",
    "        result1 += 2**j\n",
    "    j -= 1\n",
    "    i += 1\n",
    "  i = 4\n",
    "  j = 3\n",
    "  \n",
    "  while i < 8:\n",
    "    if Bin8[i] == '1':\n",
    "        result2 += 2**j\n",
    "    j -= 1\n",
    "    i += 1\n",
    "  result = decToHex(result1) + decToHex(result2)\n",
    "  return result\n",
    "getHex_1byte('10000110')"
   ]
  },
  {
   "cell_type": "code",
   "execution_count": 154,
   "metadata": {},
   "outputs": [
    {
     "name": "stdout",
     "output_type": "stream",
     "text": [
      "111100100\n"
     ]
    },
    {
     "data": {
      "text/plain": [
       "'0D'"
      ]
     },
     "execution_count": 154,
     "metadata": {},
     "output_type": "execute_result"
    }
   ],
   "source": [
    "galois_2p8 = '100011011'\n",
    "a = 'F2'\n",
    "x = int(a, base=16)\n",
    "x2 = int(a, base=16)\n",
    "x = x << 1\n",
    "y = str(hex(x)[2:]).upper()\n",
    "y2 = str(hex(x2)[2:]).upper()\n",
    "z = getBin_9bits(y)\n",
    "print(z)\n",
    "z2 = getBin_9bits(y2)\n",
    "getHex_1byte(trimBinBlock(xor(xor(z, z2), galois_2p8)))\n"
   ]
  },
  {
   "cell_type": "markdown",
   "metadata": {},
   "source": [
    "value is hexadecimal number, multiplier is integer"
   ]
  },
  {
   "cell_type": "code",
   "execution_count": 155,
   "metadata": {},
   "outputs": [],
   "source": [
    "def xor_gf(bin9):\n",
    "    if bin9[0] == '1':\n",
    "        #xor galois field\n",
    "        bin9 = xor(bin9, galois_2p8)\n",
    "    return bin9"
   ]
  },
  {
   "cell_type": "code",
   "execution_count": 156,
   "metadata": {},
   "outputs": [
    {
     "name": "stdout",
     "output_type": "stream",
     "text": [
      "000110111\n"
     ]
    },
    {
     "data": {
      "text/plain": [
       "'11111010'"
      ]
     },
     "execution_count": 156,
     "metadata": {},
     "output_type": "execute_result"
    }
   ],
   "source": [
    "\n",
    "def galois_multi(value, multiplier):\n",
    "    x = value\n",
    "    x2 = value\n",
    "    org_x = getBin_9bits(str(hex(x2)[2:]).upper())\n",
    "    print(org_x)\n",
    "    #shift\n",
    "    x = x << 1\n",
    "    y = getBin_9bits(str(hex(x)[2:]).upper())\n",
    "    if y[0] == '1':\n",
    "        #xor galois field\n",
    "        y = xor(y, galois_2p8)\n",
    "    if multiplier == 9:\n",
    "        #print(y)\n",
    "        y = trimBinBlock(y)\n",
    "        x3 = getHex_1byte(y)\n",
    "        x4 = int(x3, base=16)\n",
    "        #print(hex(x4))\n",
    "        #shift\n",
    "        x4 = x4 << 1\n",
    "        y = getBin_9bits(str(hex(x4)[2:]).upper())\n",
    "        #xor galois field\n",
    "        if y[0] == '1':\n",
    "            y = xor(y, galois_2p8)\n",
    "        y = trimBinBlock(y)\n",
    "        x3 = getHex_1byte(y)\n",
    "        x4 = int(x3, base=16)\n",
    "        print(hex(x4))\n",
    "        #shift\n",
    "        x4 = x4 << 1\n",
    "        y = getBin_9bits(str(hex(x4)[2:]).upper())\n",
    "        if y[0] == '1':\n",
    "            #xor galois field\n",
    "            y = xor(y, galois_2p8)\n",
    "        #xor itself\n",
    "        return trimBinBlock(xor(y, org_x))\n",
    "    elif multiplier == 11:\n",
    "        y = trimBinBlock(y)\n",
    "        #print(y)\n",
    "        x3 = getHex_1byte(y)\n",
    "        x4 = int(x3, base=16)\n",
    "        #print(hex(x4))\n",
    "        #shift\n",
    "        x4 = x4 << 1\n",
    "        y = getBin_9bits(str(hex(x4)[2:]).upper())\n",
    "        if y[0] == '1':\n",
    "            #xor galois field\n",
    "            y = xor(y, galois_2p8)\n",
    "        #xor itself\n",
    "        y = trimBinBlock(xor(y, org_x))\n",
    "        #print(y)\n",
    "        x3 = getHex_1byte(y)\n",
    "        x4 = int(x3, base=16)\n",
    "        #print(hex(x4))\n",
    "        #shift\n",
    "        x4 = x4 << 1\n",
    "        y = getBin_9bits(str(hex(x4)[2:]).upper())\n",
    "        #print(y)\n",
    "        if y[0] == '1':\n",
    "            #xor galois field\n",
    "            y = xor(y, galois_2p8)\n",
    "        #xor itself\n",
    "        return trimBinBlock(xor(y, org_x))\n",
    "    elif multiplier == 13:\n",
    "        #xor itself\n",
    "        y = trimBinBlock(xor(y, org_x))\n",
    "        x3 = getHex_1byte(y)\n",
    "        x4 = int(x3, base=16)\n",
    "        #print(hex(x4))\n",
    "        #shift\n",
    "        x4 = x4 << 1\n",
    "        y = getBin_9bits(str(hex(x4)[2:]).upper())\n",
    "        if y[0] == '1':\n",
    "            #xor galois field\n",
    "            y = xor(y, galois_2p8)\n",
    "        y = trimBinBlock(y)\n",
    "        x3 = getHex_1byte(y)\n",
    "        x4 = int(x3, base=16)\n",
    "        #print(hex(x4))\n",
    "        #shift\n",
    "        x4 = x4 << 1\n",
    "        y = getBin_9bits(str(hex(x4)[2:]).upper())\n",
    "        if y[0] == '1':\n",
    "            #xor galois field\n",
    "            y = xor(y, galois_2p8)\n",
    "        #xor itself\n",
    "        return trimBinBlock(xor(y, org_x))\n",
    "    elif multiplier == 14:\n",
    "        #xor itself\n",
    "        y = trimBinBlock(xor(y, org_x))\n",
    "        #print(y)\n",
    "        x3 = getHex_1byte(y)\n",
    "        x4 = int(x3, base=16)\n",
    "        #print(hex(x4))\n",
    "        #shift\n",
    "        x4 = x4 << 1\n",
    "        y = getBin_9bits(str(hex(x4)[2:]).upper())\n",
    "        if y[0] == '1':\n",
    "            #xor galois field\n",
    "            y = xor(y, galois_2p8)\n",
    "        #xor itself\n",
    "        y = trimBinBlock(xor(y, org_x))\n",
    "        x3 = getHex_1byte(y)\n",
    "        x4 = int(x3, base=16)\n",
    "        #print(hex(x4))\n",
    "        #shift\n",
    "        x4 = x4 << 1\n",
    "        y = getBin_9bits(str(hex(x4)[2:]).upper())\n",
    "        if y[0] == '1':\n",
    "            #xor galois field\n",
    "            y = xor(y, galois_2p8)\n",
    "        return trimBinBlock(y)\n",
    "    elif multiplier == 2:\n",
    "        return trimBinBlock(y)\n",
    "    elif multiplier == 3:\n",
    "        #xor itself\n",
    "        return trimBinBlock(xor(y, org_x))\n",
    "    else: \n",
    "        return trimBinBlock(getBin_9bits(str(hex(x2)[2:]).upper()))\n",
    "galois_multi(0x37, 11)\n",
    "    "
   ]
  },
  {
   "cell_type": "code",
   "execution_count": 157,
   "metadata": {},
   "outputs": [
    {
     "name": "stdout",
     "output_type": "stream",
     "text": [
      "[[71, 55, 148, 237], [64, 212, 228, 165], [163, 112, 58, 166], [76, 159, 66, 188]]\n",
      "001000111\n",
      "000110111\n",
      "010010100\n",
      "011101101\n",
      "0x99\n",
      "This is output: 87\n",
      "001000000\n",
      "011010100\n",
      "011100100\n",
      "010100101\n",
      "0xa2\n",
      "This is output: F2\n",
      "010100011\n",
      "001110000\n",
      "000111010\n",
      "010100110\n",
      "0xae\n",
      "This is output: 4D\n",
      "001001100\n",
      "010011111\n",
      "001000010\n",
      "010111100\n",
      "0xc6\n",
      "This is output: 97\n",
      "001000111\n",
      "0x7\n",
      "000110111\n",
      "010010100\n",
      "011101101\n",
      "This is output: 6E\n",
      "001000000\n",
      "0x1b\n",
      "011010100\n",
      "011100100\n",
      "010100101\n",
      "This is output: 4C\n",
      "010100011\n",
      "0xba\n",
      "001110000\n",
      "000111010\n",
      "010100110\n",
      "This is output: 90\n",
      "001001100\n",
      "0x2b\n",
      "010011111\n",
      "001000010\n",
      "010111100\n",
      "This is output: EC\n",
      "001000111\n",
      "000110111\n",
      "0xdc\n",
      "010010100\n",
      "011101101\n",
      "This is output: 46\n",
      "001000000\n",
      "011010100\n",
      "0x7d\n",
      "011100100\n",
      "010100101\n",
      "This is output: E7\n",
      "010100011\n",
      "001110000\n",
      "0xdb\n",
      "000111010\n",
      "010100110\n",
      "This is output: 4A\n",
      "001001100\n",
      "010011111\n",
      "0x4a\n",
      "001000010\n",
      "010111100\n",
      "This is output: C3\n",
      "001000111\n",
      "000110111\n",
      "010010100\n",
      "0x66\n",
      "011101101\n",
      "This is output: A6\n",
      "001000000\n",
      "011010100\n",
      "011100100\n",
      "0xbd\n",
      "010100101\n",
      "This is output: 8C\n",
      "010100011\n",
      "001110000\n",
      "000111010\n",
      "0xe8\n",
      "010100110\n",
      "This is output: D8\n",
      "001001100\n",
      "010011111\n",
      "001000010\n",
      "0x13\n",
      "010111100\n",
      "This is output: 95\n",
      "['87', 'F2', '4D', '97', '6E', '4C', '90', 'EC', '46', 'E7', '4A', 'C3', 'A6', '8C', 'D8', '95']\n"
     ]
    }
   ],
   "source": [
    "def mixCol(output, input, inverse):\n",
    "    #Mix Columns matrix\n",
    "    mC = [[2, 3, 1, 1],\n",
    "        [1, 2, 3, 1],\n",
    "        [1, 1, 2, 3],\n",
    "        [3, 1, 1, 2]]\n",
    "    #Inverse Mix Columns matrix (in decimal form)\n",
    "    iMC = [[14, 11, 13, 9],\n",
    "            [9, 14, 11, 13],\n",
    "            [13, 9, 14, 11],\n",
    "            [11, 13, 9, 14]]\n",
    "    for i in range(len(input)):\n",
    "        input[i] = int(input[i], base=16)\n",
    "    #input matrix column-wise\n",
    "    c = [[input[0], input[4], input[8], input[12]],\n",
    "        [input[1], input[5], input[9], input[13]],\n",
    "        [input[2], input[6], input[10], input[14]],\n",
    "        [input[3], input[7], input[11], input[15]]]\n",
    "    print(c)\n",
    "    if inverse:\n",
    "        row = 0\n",
    "        i = 0\n",
    "        j = 0\n",
    "        while (i < 16):\n",
    "            if j == 4:\n",
    "                j = 0\n",
    "                row += 1\n",
    "            output[i] = getHex_1byte(xor(xor(xor(galois_multi(c[j][0] ,iMC[row][0]), galois_multi(c[j][1], iMC[row][1])), galois_multi(c[j][2], iMC[row][2])), galois_multi(c[j][3], iMC[row][3])))\n",
    "            print('This is output: ' + output[i])\n",
    "            i += 1\n",
    "            j += 1\n",
    "    else:\n",
    "        row = 0\n",
    "        i = 0\n",
    "        j = 0\n",
    "        while (i < 16):\n",
    "            if j == 4:\n",
    "                j = 0\n",
    "                row += 1\n",
    "            output[i] = getHex_1byte(xor(xor(xor(galois_multi(c[j][0] , mC[row][0]), galois_multi(c[j][1], mC[row][1])), galois_multi(c[j][2], mC[row][2])), galois_multi(c[j][3], mC[row][3])))\n",
    "            i += 1\n",
    "            j += 1\n",
    "output = ['']*16\n",
    "input = ['47', '40', 'A3', '4C', '37', 'D4', '70', '9F', '94', 'E4', '3A', '42', 'ED', 'A5', 'A6', 'BC']\n",
    "mixCol(output, input, True)\n",
    "print(output)\n"
   ]
  },
  {
   "cell_type": "code",
   "execution_count": 158,
   "metadata": {},
   "outputs": [
    {
     "name": "stdout",
     "output_type": "stream",
     "text": [
      "001000111\n",
      "11001001\n",
      "0xc9\n",
      "110010010\n",
      "0xce\n",
      "87\n"
     ]
    }
   ],
   "source": [
    "x = 0x47\n",
    "#shift \n",
    "x = x << 1\n",
    "x2 = 0x47\n",
    "org_x = getBin_9bits(str(hex(x2)[2:]).upper())\n",
    "print(org_x)\n",
    "y = getBin_9bits(str(hex(x)[2:]).upper())\n",
    "#xor itself\n",
    "y = trimBinBlock(xor(y, org_x))\n",
    "print(y)\n",
    "x3 = getHex_1byte(y)\n",
    "x4 = int(x3, base=16)\n",
    "print(hex(x4))\n",
    "#shift\n",
    "x4 = x4 << 1\n",
    "y = getBin_9bits(str(hex(x4)[2:]).upper())\n",
    "print(y)\n",
    "#xor galois field\n",
    "y = xor(y, galois_2p8)\n",
    "#xor itself\n",
    "y = trimBinBlock(xor(y, org_x))\n",
    "x3 = getHex_1byte(y)\n",
    "x4 = int(x3, base=16)\n",
    "print(hex(x4))\n",
    "#shift\n",
    "x4 = x4 << 1\n",
    "y = getBin_9bits(str(hex(x4)[2:]).upper())\n",
    "y = trimBinBlock(xor(y, galois_2p8))\n",
    "x3 = getHex_1byte(y)\n",
    "print(x3)"
   ]
  },
  {
   "cell_type": "code",
   "execution_count": 159,
   "metadata": {},
   "outputs": [
    {
     "name": "stdout",
     "output_type": "stream",
     "text": [
      "000110111\n",
      "01101110\n",
      "0x6e\n",
      "11101011\n",
      "0xeb\n",
      "111010110\n",
      "FA\n"
     ]
    }
   ],
   "source": [
    "x = 0x37\n",
    "#shift\n",
    "x = x << 1\n",
    "x2 = 0x37\n",
    "org_x = getBin_9bits(str(hex(x2)[2:]).upper())\n",
    "print(org_x)\n",
    "y = getBin_9bits(str(hex(x)[2:]).upper())\n",
    "y = trimBinBlock(y)\n",
    "print(y)\n",
    "x3 = getHex_1byte(y)\n",
    "x4 = int(x3, base=16)\n",
    "print(hex(x4))\n",
    "#shift\n",
    "x4 = x4 << 1\n",
    "y = getBin_9bits(str(hex(x4)[2:]).upper())\n",
    "#xor itself\n",
    "y = trimBinBlock(xor(y, org_x))\n",
    "print(y)\n",
    "x3 = getHex_1byte(y)\n",
    "x4 = int(x3, base=16)\n",
    "print(hex(x4))\n",
    "#shift\n",
    "x4 = x4 << 1\n",
    "y = getBin_9bits(str(hex(x4)[2:]).upper())\n",
    "print(y)\n",
    "#xor galois field\n",
    "y = xor(y, galois_2p8)\n",
    "#xor itself\n",
    "y = trimBinBlock(xor(y, org_x))\n",
    "x3 = getHex_1byte(y)\n",
    "print(x3)\n"
   ]
  },
  {
   "cell_type": "markdown",
   "metadata": {},
   "source": [
    "0D multiplication"
   ]
  },
  {
   "cell_type": "code",
   "execution_count": 160,
   "metadata": {},
   "outputs": [
    {
     "name": "stdout",
     "output_type": "stream",
     "text": [
      "010010100\n",
      "100101000\n",
      "0xa7\n",
      "0x55\n",
      "0x3e\n"
     ]
    }
   ],
   "source": [
    "x = 0x94\n",
    "#shift\n",
    "x = x << 1\n",
    "x2 = 0x94\n",
    "org_x = getBin_9bits(str(hex(x2)[2:]).upper())\n",
    "print(org_x)\n",
    "y = getBin_9bits(str(hex(x)[2:]).upper())\n",
    "print(y)\n",
    "#xor galois field\n",
    "y = xor(y, galois_2p8)\n",
    "#xor itself\n",
    "y = trimBinBlock(xor(y, org_x))\n",
    "x3 = getHex_1byte(y)\n",
    "x4 = int(x3, base=16)\n",
    "print(hex(x4))\n",
    "#shift\n",
    "x4 = x4 << 1\n",
    "y = getBin_9bits(str(hex(x4)[2:]).upper())\n",
    "#xor galois field\n",
    "y = xor(y, galois_2p8)\n",
    "y = trimBinBlock(y)\n",
    "x3 = getHex_1byte(y)\n",
    "x4 = int(x3, base=16)\n",
    "print(hex(x4))\n",
    "#shift\n",
    "x4 = x4 << 1\n",
    "y = getBin_9bits(str(hex(x4)[2:]).upper())\n",
    "#xor itself\n",
    "y = trimBinBlock(xor(y, org_x))\n",
    "x3 = getHex_1byte(y)\n",
    "x4 = int(x3, base=16)\n",
    "print(hex(x4))"
   ]
  },
  {
   "cell_type": "code",
   "execution_count": 161,
   "metadata": {},
   "outputs": [
    {
     "name": "stdout",
     "output_type": "stream",
     "text": [
      "001000111\n",
      "010001110\n",
      "0x95\n",
      "0x31\n",
      "0x3e\n"
     ]
    }
   ],
   "source": [
    "x = 0x47\n",
    "#shift\n",
    "x = x << 1\n",
    "x2 = 0x47\n",
    "org_x = getBin_9bits(str(hex(x2)[2:]).upper())\n",
    "print(org_x)\n",
    "y = getBin_9bits(str(hex(x)[2:]).upper())\n",
    "print(y)\n",
    "#xor galois field\n",
    "y = xor(y, galois_2p8)\n",
    "y = trimBinBlock(y)\n",
    "x3 = getHex_1byte(y)\n",
    "x4 = int(x3, base=16)\n",
    "print(hex(x4))\n",
    "#shift\n",
    "x4 = x4 << 1\n",
    "y = getBin_9bits(str(hex(x4)[2:]).upper())\n",
    "#xor galois field\n",
    "y = xor(y, galois_2p8)\n",
    "y = trimBinBlock(y)\n",
    "x3 = getHex_1byte(y)\n",
    "x4 = int(x3, base=16)\n",
    "print(hex(x4))\n",
    "#shift\n",
    "x4 = x4 << 1\n",
    "y = getBin_9bits(str(hex(x4)[2:]).upper())\n",
    "#xor galois field\n",
    "y = xor(y, galois_2p8)\n",
    "#xor itself\n",
    "y = trimBinBlock(xor(y, org_x))\n",
    "x3 = getHex_1byte(y)\n",
    "x4 = int(x3, base=16)\n",
    "print(hex(x4))"
   ]
  }
 ],
 "metadata": {
  "kernelspec": {
   "display_name": "Python 3.9.10 64-bit",
   "language": "python",
   "name": "python3"
  },
  "language_info": {
   "codemirror_mode": {
    "name": "ipython",
    "version": 3
   },
   "file_extension": ".py",
   "mimetype": "text/x-python",
   "name": "python",
   "nbconvert_exporter": "python",
   "pygments_lexer": "ipython3",
   "version": "3.9.10"
  },
  "orig_nbformat": 4,
  "vscode": {
   "interpreter": {
    "hash": "7261cf52dd4f4e8e30f557e342288bed935259332c2a347bc98330326a10dca0"
   }
  }
 },
 "nbformat": 4,
 "nbformat_minor": 2
}
